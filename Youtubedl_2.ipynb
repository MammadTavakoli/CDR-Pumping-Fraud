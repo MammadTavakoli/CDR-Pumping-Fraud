{
  "cells": [
    {
      "cell_type": "markdown",
      "metadata": {
        "id": "view-in-github",
        "colab_type": "text"
      },
      "source": [
        "<a href=\"https://colab.research.google.com/github/MammadTavakoli/CDR-Pumping-Fraud/blob/master/Youtubedl_2.ipynb\" target=\"_parent\"><img src=\"https://colab.research.google.com/assets/colab-badge.svg\" alt=\"Open In Colab\"/></a>"
      ]
    },
    {
      "cell_type": "markdown",
      "metadata": {
        "id": "HH8FihF-lRFx"
      },
      "source": [
        "# Install Pakages"
      ]
    },
    {
      "cell_type": "code",
      "execution_count": 1,
      "metadata": {
        "colab": {
          "base_uri": "https://localhost:8080/"
        },
        "id": "4MnPr2qaGl6i",
        "outputId": "9f3dd33e-1c17-42a7-a9a6-1011532a98a3"
      },
      "outputs": [
        {
          "output_type": "stream",
          "name": "stdout",
          "text": [
            "Collecting git+https://github.com/pytube/pytube\n",
            "  Cloning https://github.com/pytube/pytube to /tmp/pip-req-build-q4f6jilz\n",
            "  Running command git clone --filter=blob:none --quiet https://github.com/pytube/pytube /tmp/pip-req-build-q4f6jilz\n",
            "  Resolved https://github.com/pytube/pytube to commit a32fff39058a6f7e5e59ecd06a7467b71197ce35\n",
            "  Preparing metadata (setup.py) ... \u001b[?25l\u001b[?25hdone\n",
            "Building wheels for collected packages: pytube\n",
            "  Building wheel for pytube (setup.py) ... \u001b[?25l\u001b[?25hdone\n",
            "  Created wheel for pytube: filename=pytube-15.0.0-py3-none-any.whl size=57579 sha256=6fc8a51a098338a1054d835b43550048d0913fd3bd3ca466eda3115583d8c884\n",
            "  Stored in directory: /tmp/pip-ephem-wheel-cache-nrrqut8q/wheels/b0/a9/7d/d3579227a695fdd15288c35657b3332ef0d71430ca7f685769\n",
            "Successfully built pytube\n",
            "Installing collected packages: pytube\n",
            "Successfully installed pytube-15.0.0\n",
            "Collecting youtube-transcript-api\n",
            "  Downloading youtube_transcript_api-0.6.1-py3-none-any.whl (24 kB)\n",
            "Requirement already satisfied: requests in /usr/local/lib/python3.10/dist-packages (from youtube-transcript-api) (2.31.0)\n",
            "Requirement already satisfied: charset-normalizer<4,>=2 in /usr/local/lib/python3.10/dist-packages (from requests->youtube-transcript-api) (3.3.2)\n",
            "Requirement already satisfied: idna<4,>=2.5 in /usr/local/lib/python3.10/dist-packages (from requests->youtube-transcript-api) (3.6)\n",
            "Requirement already satisfied: urllib3<3,>=1.21.1 in /usr/local/lib/python3.10/dist-packages (from requests->youtube-transcript-api) (2.0.7)\n",
            "Requirement already satisfied: certifi>=2017.4.17 in /usr/local/lib/python3.10/dist-packages (from requests->youtube-transcript-api) (2023.11.17)\n",
            "Installing collected packages: youtube-transcript-api\n",
            "Successfully installed youtube-transcript-api-0.6.1\n"
          ]
        }
      ],
      "source": [
        "# !pip install pytube\n",
        "! pip install git+https://github.com/pytube/pytube\n",
        "!pip install youtube-transcript-api"
      ]
    },
    {
      "cell_type": "markdown",
      "metadata": {
        "id": "0tqctZOelgWi"
      },
      "source": [
        "# Import Pakages"
      ]
    },
    {
      "cell_type": "code",
      "execution_count": 2,
      "metadata": {
        "id": "vlmixGIYItm2"
      },
      "outputs": [],
      "source": [
        "from __future__ import unicode_literals"
      ]
    },
    {
      "cell_type": "code",
      "execution_count": 3,
      "metadata": {
        "id": "SfZI1Ri6Weub"
      },
      "outputs": [],
      "source": [
        "import os\n",
        "from google.colab import drive"
      ]
    },
    {
      "cell_type": "code",
      "execution_count": 4,
      "metadata": {
        "id": "Sldtm0XTeTz7"
      },
      "outputs": [],
      "source": [
        "from pytube import YouTube, Playlist\n",
        "from youtube_transcript_api import YouTubeTranscriptApi, TranscriptsDisabled\n",
        "from youtube_transcript_api.formatters import SRTFormatter"
      ]
    },
    {
      "cell_type": "code",
      "execution_count": 5,
      "metadata": {
        "id": "uCCQGn2JazE2"
      },
      "outputs": [],
      "source": [
        "import re\n",
        "import math\n",
        "import time\n",
        "import string\n",
        "from typing import Dict, Optional"
      ]
    },
    {
      "cell_type": "markdown",
      "metadata": {
        "id": "Yk9oxNtylj5R"
      },
      "source": [
        "# DOWNLOAD VIDEO"
      ]
    },
    {
      "cell_type": "code",
      "execution_count": 6,
      "metadata": {
        "colab": {
          "base_uri": "https://localhost:8080/"
        },
        "id": "E2pxU14xySw5",
        "outputId": "8f010eaf-a9ed-45bf-e658-e827f97cf0b4"
      },
      "outputs": [
        {
          "output_type": "stream",
          "name": "stdout",
          "text": [
            "Mounted at /content/drive\n"
          ]
        }
      ],
      "source": [
        "drive.mount('/content/drive', force_remount=True)"
      ]
    },
    {
      "cell_type": "code",
      "execution_count": 7,
      "metadata": {
        "id": "mLDOX4ciP3qW"
      },
      "outputs": [],
      "source": [
        "x = \"۰۱۲۳۴۵۶۷۸۹\"\n",
        "y = \"0123456789\"\n",
        "table_digit = str.maketrans(x, y)\n",
        "table_punctuation = str.maketrans(string.punctuation, '-'*len(string.punctuation))"
      ]
    },
    {
      "cell_type": "code",
      "execution_count": 8,
      "metadata": {
        "id": "LXfMLvkKaN86"
      },
      "outputs": [],
      "source": [
        "def url_list_add(url):\n",
        "    # Define the path where the file is located\n",
        "    path = \"//content//drive//MyDrive//YouTube//\"\n",
        "\n",
        "    # Create the complete file path by joining the path and file name\n",
        "    file_path = os.path.join(path, \"_urls.txt\")\n",
        "\n",
        "    # Check if the file exists\n",
        "    if not os.path.isfile(file_path):\n",
        "        # If the file doesn't exist, create an empty file\n",
        "        open(file_path, \"w\").close()\n",
        "\n",
        "    # Open the file in read mode\n",
        "    with open(file_path, 'r', encoding=\"utf-8\") as file:\n",
        "        # Read the contents of the file\n",
        "        content = file.read()\n",
        "\n",
        "        # Check if the url already exists in the file\n",
        "        if url in content:\n",
        "            print(f'{url} already exists')\n",
        "            return False\n",
        "\n",
        "    # Open the file in append mode\n",
        "    with open(file_path, \"a\", encoding=\"utf-8\") as file:\n",
        "        # Write the url to the file\n",
        "        file.write(url + \"\\n\")\n",
        "        print(f'{url} added')\n",
        "\n",
        "    return True"
      ]
    },
    {
      "cell_type": "code",
      "execution_count": 9,
      "metadata": {
        "id": "0-zsGaCfzREV"
      },
      "outputs": [],
      "source": [
        "def create_folder(url, path):\n",
        "    try:\n",
        "        # Create the folder\n",
        "        os.makedirs(path, exist_ok=True)\n",
        "\n",
        "        # Change the current working directory to the new folder\n",
        "        os.chdir(path)\n",
        "        print(os.getcwd())\n",
        "\n",
        "        # Save the URL in a text file\n",
        "        url_file_path = os.path.join(path, \"_url.txt\")\n",
        "        with open(url_file_path, \"w\", encoding=\"utf-8\") as f:\n",
        "            f.write(url)\n",
        "\n",
        "        print(\"Folder created successfully.\")\n",
        "    except Exception as e:\n",
        "        print(\"Error creating folder:\", str(e))"
      ]
    },
    {
      "cell_type": "code",
      "execution_count": 10,
      "metadata": {
        "id": "KtCW9cLPM1Kk"
      },
      "outputs": [],
      "source": [
        "def download_srt(youtube, filename, target_language='en'):\n",
        "    try:\n",
        "        # Get video id\n",
        "        video_id = youtube.video_id\n",
        "\n",
        "        # Get transcript of video\n",
        "        srt = YouTubeTranscriptApi.get_transcript(video_id, languages=[target_language])\n",
        "\n",
        "        # Convert to SRT format\n",
        "        formatter = SRTFormatter()\n",
        "        en_caption_data = formatter.format_transcript(srt)\n",
        "\n",
        "        # Save the subtitle in the file\n",
        "        print('Downloading subtitles for:', filename)\n",
        "        with open(f\"{filename}.srt\", \"w\", encoding=\"utf-8\") as f:\n",
        "            f.write(en_caption_data)\n",
        "\n",
        "        # Access the description attribute of the YouTube object\n",
        "        description = youtube.description\n",
        "        with open(f\"{filename}.description\", \"w\", encoding=\"utf-8\") as f:\n",
        "            f.write(description)\n",
        "\n",
        "    except TranscriptsDisabled:\n",
        "        print('Subtitles are disabled for:', filename)\n",
        "    except Exception as e:\n",
        "        print('Error downloading subtitles for:', filename, 'Error:', str(e))"
      ]
    },
    {
      "cell_type": "code",
      "execution_count": 11,
      "metadata": {
        "id": "M55fJfvyt5t1"
      },
      "outputs": [],
      "source": [
        "# Function to download a video from YouTube using pytube\n",
        "def download_video_by_pytube(url, base_path=\"//content//drive//MyDrive//YouTube//Download_video//\",\n",
        "                             playlist_start=1, skip_download=False, max_resolution=1280):\n",
        "\n",
        "    # Check if the URL is for a playlist\n",
        "    if 'playlist?list=' in url.lower():\n",
        "        playlist = Playlist(url)\n",
        "        folder_name = f\"{playlist.title}_{playlist.owner}\"\n",
        "        playlist = list(playlist.video_urls)\n",
        "    else:\n",
        "        playlist = []\n",
        "        playlist.append(url)\n",
        "        youtube = YouTube(url)\n",
        "        folder_name = f\"{youtube.title}_{youtube.author}\"\n",
        "\n",
        "    # Create a clean folder name and path\n",
        "    folder_name = re.sub(r'[^\\w\\s-]', '', folder_name).strip()\n",
        "    folder_name = re.sub(r'[-\\s]+', '-', folder_name)\n",
        "    path = os.path.join(base_path, folder_name)\n",
        "\n",
        "    # Create the folder for the downloaded videos\n",
        "    create_folder(url, path)\n",
        "\n",
        "    for i, video_url in enumerate(playlist[playlist_start-1:]):\n",
        "        youtube = YouTube(video_url)\n",
        "\n",
        "        # Get the name of the video\n",
        "        title = youtube.title.translate(table_punctuation).translate(table_digit)\n",
        "        j = str(i+playlist_start).zfill(3)\n",
        "        filename = f\"{j}_{title}\"\n",
        "        print(j, ' ', title)\n",
        "\n",
        "\n",
        "        # print(youtube.streaming_data)\n",
        "\n",
        "        try:\n",
        "\n",
        "          video_dict = {}\n",
        "          for streaming_data in youtube.streaming_data['formats']:\n",
        "            if 'video/mp4;' in streaming_data['mimeType']:\n",
        "              video_dict[streaming_data['url']] = int(streaming_data['qualityLabel'].split('p')[0])\n",
        "              print(streaming_data['quality'], streaming_data['qualityLabel'])\n",
        "\n",
        "          video_dict = filtered_dict = dict(filter(lambda x: x[1] <= max_resolution, video_dict.items()))\n",
        "          videos = sorted(video_dict.items(), key=lambda x: x[1], reverse=True)\n",
        "          print(videos[0][1])\n",
        "\n",
        "\n",
        "            # Get the streams that have a resolution\n",
        "          streams = [stream for stream in youtube.streams.filter(progressive=True, file_extension='mp4') if stream.resolution]\n",
        "\n",
        "          # Sort the streams by resolution in descending order\n",
        "          streams.sort(key=lambda stream: int(stream.resolution.replace('p', '')), reverse=True)\n",
        "\n",
        "          # Find the first stream that has a resolution less than or equal to max_resolution\n",
        "          stream = next((stream for stream in streams if int(stream.resolution.replace('p', '')) <= max_resolution), None)\n",
        "\n",
        "          # Download the video and subtitle and specify the filename\n",
        "          if stream:\n",
        "              if not skip_download:\n",
        "                  stream.download(filename=f\"{filename}.mp4\")\n",
        "                  print(\"Downloaded resolution is:\", stream.resolution)\n",
        "              download_srt(youtube, filename)\n",
        "\n",
        "        except Exception as e:\n",
        "          print(e)"
      ]
    },
    {
      "cell_type": "code",
      "execution_count": 12,
      "metadata": {
        "id": "kbMHEMOZSZ_Z"
      },
      "outputs": [],
      "source": [
        "# The URLS list holds the YouTube video or playlist URLs that you want to download.\n",
        "# Each URL in the list can be either a string (representing a single video URL) or a dictionary (representing a playlist).\n",
        "# If it's a dictionary, the dictionary key is the URL of the playlist, and the dictionary value is the index of the video in the playlist where downloading should start.\n",
        "# If the playlist URL is specified as a string, downloading will start from the first video in the playlist.\n",
        "# This script allows you to download videos from a YouTube playlist to your Google Drive and then to your PC, with the ability to resume the download from the last video if needed.\n",
        "\n",
        "# Example of the URLS list:\n",
        "# URLS = [\n",
        "#     {\"https://www.youtube.com/playlist?list=1234\": 3},  # Download from the 3rd video of the playlist\n",
        "#     {\"https://www.youtube.com/playlist?list=1234\": 1},  # Download from the first video of the playlist (all videos)\n",
        "#     \"https://www.youtube.com/playlist?list=1234\",      # Download from the first video of the playlist (all videos)\n",
        "#     \"https://www.youtube.com/watch?v=1234\"              # Download a single video\n",
        "# ]\n",
        "\n",
        "URLS = [\n",
        "\"https://www.youtube.com/playlist?list=PLD9Qr3ozd9P0cIvxMOybbeyrVr6ki2cvB\",\n",
        "\n",
        "{\"https://www.youtube.com/playlist?list=PLyivlXe3FjG3iJ25wPWmZP8bVi-410s6E\": 6},\n",
        " {\"https://www.youtube.com/playlist?list=PLehuLRPyt1HxuYpdlW4KevYJVOSDG3DEz\":21}\n",
        "]"
      ]
    },
    {
      "cell_type": "code",
      "execution_count": 14,
      "metadata": {
        "colab": {
          "base_uri": "https://localhost:8080/"
        },
        "id": "Y7iL0xjRW3NO",
        "outputId": "ee20839a-50f9-4ab8-8bba-852356427ecf"
      },
      "outputs": [
        {
          "output_type": "stream",
          "name": "stdout",
          "text": [
            "https://www.youtube.com/playlist?list=PLD9Qr3ozd9P0cIvxMOybbeyrVr6ki2cvB already exists\n",
            "https://www.youtube.com/playlist?list=PLD9Qr3ozd9P0cIvxMOybbeyrVr6ki2cvB\n",
            "-------------------------------------------------- \n",
            "\n",
            "/content/drive/MyDrive/YouTube/Download_video/آموزش-کوبرنتیز_Saeid-Bostandoust\n",
            "Folder created successfully.\n",
            "001   کارگاه آموزش کوبرنتیز - قسمت اول\n",
            "eDbCM6sbcXY is age restricted, and can't be accessed without logging in.\n",
            "002   کارگاه آموزش کوبرنتیز - قسمت دوم\n",
            "medium 360p\n",
            "hd720 720p\n",
            "720\n",
            "Downloaded resolution is: 720p\n",
            "Subtitles are disabled for: 002_کارگاه آموزش کوبرنتیز - قسمت دوم\n",
            "003   کارگاه آموزش کوبرنتیز - قسمت سوم\n",
            "medium 360p\n",
            "hd720 720p\n",
            "720\n",
            "Downloaded resolution is: 720p\n",
            "Subtitles are disabled for: 003_کارگاه آموزش کوبرنتیز - قسمت سوم\n",
            "https://www.youtube.com/playlist?list=PLyivlXe3FjG3iJ25wPWmZP8bVi-410s6E already exists\n",
            "https://www.youtube.com/playlist?list=PLyivlXe3FjG3iJ25wPWmZP8bVi-410s6E\n",
            "-------------------------------------------------- \n",
            "\n",
            "/content/drive/MyDrive/YouTube/Download_video/Graph-Deep-Learning_Machine-Learning-and-Dynamical-Systems-Seminar\n",
            "Folder created successfully.\n",
            "https://www.youtube.com/playlist?list=PLehuLRPyt1HxuYpdlW4KevYJVOSDG3DEz already exists\n",
            "https://www.youtube.com/playlist?list=PLehuLRPyt1HxuYpdlW4KevYJVOSDG3DEz\n",
            "-------------------------------------------------- \n",
            "\n",
            "/content/drive/MyDrive/YouTube/Download_video/Deep-Learning-STAT-940-Fall-2023_Data-Science-Courses\n",
            "Folder created successfully.\n"
          ]
        }
      ],
      "source": [
        "base_path = \"//content//drive//MyDrive//YouTube//Download_video//\"\n",
        "\n",
        "for URL in URLS:\n",
        "    if isinstance(URL, dict) and len(URL) == 1:\n",
        "        url = list(URL.keys())[0]\n",
        "        playlist_start = list(URL.values())[0]\n",
        "    elif isinstance(URL, str):\n",
        "        url = URL\n",
        "        playlist_start = 1\n",
        "    else:\n",
        "        print('There are some errors in URLS')\n",
        "        break\n",
        "\n",
        "    if not url_list_add(url):\n",
        "        print(url)\n",
        "        print('-' * 50, '\\n')\n",
        "\n",
        "        download_video_by_pytube(url, base_path, playlist_start=playlist_start, skip_download=False, max_resolution=1080)"
      ]
    },
    {
      "cell_type": "code",
      "execution_count": 13,
      "metadata": {
        "id": "b0aKIiMnQKtA"
      },
      "outputs": [],
      "source": []
    }
  ],
  "metadata": {
    "colab": {
      "provenance": [],
      "include_colab_link": true
    },
    "kernelspec": {
      "display_name": "Python 3",
      "name": "python3"
    }
  },
  "nbformat": 4,
  "nbformat_minor": 0
}